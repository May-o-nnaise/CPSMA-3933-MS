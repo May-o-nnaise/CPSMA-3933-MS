{
  "nbformat": 4,
  "nbformat_minor": 0,
  "metadata": {
    "colab": {
      "provenance": [],
      "authorship_tag": "ABX9TyPdUgV+NW2YOnZlaIV1Js6/",
      "include_colab_link": true
    },
    "kernelspec": {
      "name": "python3",
      "display_name": "Python 3"
    },
    "language_info": {
      "name": "python"
    }
  },
  "cells": [
    {
      "cell_type": "markdown",
      "metadata": {
        "id": "view-in-github",
        "colab_type": "text"
      },
      "source": [
        "<a href=\"https://colab.research.google.com/github/May-o-nnaise/CPSMA-3933-MS/blob/main/SimpsonMasonProject2.ipynb\" target=\"_parent\"><img src=\"https://colab.research.google.com/assets/colab-badge.svg\" alt=\"Open In Colab\"/></a>"
      ]
    },
    {
      "cell_type": "markdown",
      "source": [
        "#Factorials"
      ],
      "metadata": {
        "id": "ClJetwtXT8QT"
      }
    },
    {
      "cell_type": "code",
      "source": [
        "import math\n",
        "num = math.factorial(1000)\n",
        "num2string = str(num)\n",
        "def longest_repeated(s):\n",
        "    max_char = None\n",
        "    max_count = 0\n",
        "    count = 1\n",
        "    for i in range(1, len(s)):\n",
        "        if s[i] == s[i - 1]:\n",
        "            count += 1\n",
        "        else:\n",
        "            if count > max_count:\n",
        "                max_char, max_count = s[i - 1], count\n",
        "            count = 1\n",
        "    if count > max_count:\n",
        "        max_char, max_count = s[-1], count\n",
        "    return max_char, max_count\n",
        "print(longest_repeated(num2string))"
      ],
      "metadata": {
        "id": "IaFXUkfwT8CD",
        "colab": {
          "base_uri": "https://localhost:8080/"
        },
        "outputId": "6cfea5c3-33da-4a64-b3ef-97a18ddd4d25"
      },
      "execution_count": 5,
      "outputs": [
        {
          "output_type": "stream",
          "name": "stdout",
          "text": [
            "('0', 249)\n"
          ]
        }
      ]
    },
    {
      "cell_type": "markdown",
      "source": [
        "For this one, I took the factorial, turned it into a string, and then made it go through the string and count the the largest character counts in a row and then return it back along with the number of times it was repeated."
      ],
      "metadata": {
        "id": "xPlHzBP7Oadh"
      }
    },
    {
      "cell_type": "markdown",
      "source": [
        "# Big Numbers"
      ],
      "metadata": {
        "id": "Ftd7TD5tT5UA"
      }
    },
    {
      "cell_type": "code",
      "source": [
        "import math\n",
        "\n",
        "num = (100**13-26)\n",
        "num2string = str(num)\n",
        "listofx = [int(digit) for digit in num2string]\n",
        "print(sum(listofx))"
      ],
      "metadata": {
        "id": "3CVatiLbT5LO",
        "colab": {
          "base_uri": "https://localhost:8080/"
        },
        "outputId": "4ff0c9d2-23cd-4e15-bec1-84774526ca7a"
      },
      "execution_count": 6,
      "outputs": [
        {
          "output_type": "stream",
          "name": "stdout",
          "text": [
            "227\n"
          ]
        }
      ]
    },
    {
      "cell_type": "markdown",
      "source": [
        "For this one I took a similar approach to that of the last one. I converted it to a string and turned the string into a list of numbers, then I took the sum of the list and printed it."
      ],
      "metadata": {
        "id": "8iWWxDloOAa2"
      }
    },
    {
      "cell_type": "markdown",
      "source": [
        "# Handshakes"
      ],
      "metadata": {
        "id": "GftO4B6WT1vF"
      }
    },
    {
      "cell_type": "code",
      "source": [
        "team_1 = 11\n",
        "team_2 = 11\n",
        "handshakes = 0\n",
        "\n",
        "for i in range(team_1):\n",
        "  handshakes = (team_1*team_2)+((team_1-1)*team_1/2)\n",
        "print(handshakes)"
      ],
      "metadata": {
        "id": "I0NWKt_IT1iK",
        "colab": {
          "base_uri": "https://localhost:8080/"
        },
        "outputId": "ae7489c3-2959-420c-bf69-0009003b27d5"
      },
      "execution_count": 9,
      "outputs": [
        {
          "output_type": "stream",
          "name": "stdout",
          "text": [
            "176.0\n"
          ]
        }
      ]
    },
    {
      "cell_type": "markdown",
      "source": [
        "On this one, I think its easier if you draw it out, if 11 people shake hands with 11 other people its just 11*11. When it gets back to the teammates shaking hands with eachother it gets a little harder because they all shake hands with eachother once. I found that there are two ways to calculate this; either you can do 11-1 and count down for each increment and then take the sum so it would look like 10+9+8+... or you can just divide it by 2 because they have to pair with eachother into couples to shake eachothers hands."
      ],
      "metadata": {
        "id": "JIXoUQtyMfWq"
      }
    },
    {
      "cell_type": "markdown",
      "source": [
        "# Harder Handshakes"
      ],
      "metadata": {
        "id": "Btt1JgjsTwM4"
      }
    },
    {
      "cell_type": "code",
      "execution_count": 8,
      "metadata": {
        "colab": {
          "base_uri": "https://localhost:8080/"
        },
        "id": "mPmzkeanEV2n",
        "outputId": "05fd0c93-b386-4518-b663-bfa2247ef8e6"
      },
      "outputs": [
        {
          "output_type": "stream",
          "name": "stdout",
          "text": [
            "Husband 1 shakes: 8, Wife 1 shakes: 0\n",
            "Husband 2 shakes: 7, Wife 2 shakes: 1\n",
            "Husband 3 shakes: 6, Wife 3 shakes: 2\n",
            "Husband 4 shakes: 5, Wife 4 shakes: 3\n",
            "Husband 5 shakes: 4, Wife 5 shakes: 4\n",
            "Mr.Smith would have shaken 4 hands.\n"
          ]
        }
      ],
      "source": [
        "total_people = 10\n",
        "max = 8 #can't shake w self or spouse\n",
        "min = 0\n",
        "couples = int(total_people/2)\n",
        "\n",
        "for i in range(couples):\n",
        "  husband_shake = max - i\n",
        "  wife_shake = min + i\n",
        "  print(f'Husband {i+1} shakes: {husband_shake}, Wife {i+1} shakes: {wife_shake}')\n",
        "print(f'Mr.Smith would have shaken {husband_shake} hands.')\n",
        "\n"
      ]
    },
    {
      "cell_type": "markdown",
      "source": [
        "This one was really tricky. I drew this one out probably 5+ times, then once I got it, I had to figure out how to program it. The variable total people probably wasn't super necessary but now you can do this with a greater number of people by changing up stuff. How I went about this is if your partner shook hands with everyone (8 people), you would've had to shake zero hands and then that pattern keeps repeating for each couple. It keeps incrementing down one each time because of the person before them shaking hands with them and you can't shake hands with them again and also everyone gives back a different number. There is 4 twice because that would be Mr/Mrs. Smith."
      ],
      "metadata": {
        "id": "YduysebnQ3C7"
      }
    }
  ]
}