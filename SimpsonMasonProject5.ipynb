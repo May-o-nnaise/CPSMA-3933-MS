{
  "nbformat": 4,
  "nbformat_minor": 0,
  "metadata": {
    "colab": {
      "provenance": [],
      "collapsed_sections": [
        "Vm0LNTAtP9Mf"
      ],
      "authorship_tag": "ABX9TyNdIuhTmctuma0pfweHm1zd",
      "include_colab_link": true
    },
    "kernelspec": {
      "name": "python3",
      "display_name": "Python 3"
    },
    "language_info": {
      "name": "python"
    }
  },
  "cells": [
    {
      "cell_type": "markdown",
      "metadata": {
        "id": "view-in-github",
        "colab_type": "text"
      },
      "source": [
        "<a href=\"https://colab.research.google.com/github/May-o-nnaise/CPSMA-3933-MS/blob/main/SimpsonMasonProject5.ipynb\" target=\"_parent\"><img src=\"https://colab.research.google.com/assets/colab-badge.svg\" alt=\"Open In Colab\"/></a>"
      ]
    },
    {
      "cell_type": "markdown",
      "source": [
        "#Recursion Assignment"
      ],
      "metadata": {
        "id": "w8TSVv-UP3A4"
      }
    },
    {
      "cell_type": "markdown",
      "source": [
        "$$\n",
        "f(n)=7f(n-1)-10f(n-2)  \n",
        "f(0)=1\n",
        "f(1) = 3\n",
        "$$"
      ],
      "metadata": {
        "id": "pubdMxxwQbsd"
      }
    },
    {
      "cell_type": "markdown",
      "source": [
        "##1. EQUATION"
      ],
      "metadata": {
        "id": "Vm0LNTAtP9Mf"
      }
    },
    {
      "cell_type": "markdown",
      "source": [
        "So the original function is\n",
        "$$\n",
        "f(n)=7f(n-1)-10f(n-2)f(0)=1f(1) = 3\n",
        "$$\n",
        "now use the ar^n\n",
        "$$\n",
        "ar^n = 7^{(arn-1)}-10^{(arn-2)}\n",
        "$$\n",
        "convert it to a quadratic formula to find the r's\n",
        "$$\n",
        "r^2 = 7r - 10\n",
        "$$\n",
        "\n",
        "Using the box method\n",
        "| $$r^2$$ | $$-10$$ | $$7r$$ |\n",
        "|----------|----------|----------|\n",
        "| $$r$$ | $$-5$$ | $$r-5$$ |\n",
        "| $$r$$ | $$-2$$ | $$r-2$$ |\n",
        "\n",
        "So now you have\n",
        "$$r=5 \\space r=2$$\n",
        "\n",
        "Now we use $$an=a(5)^n+b(2)^n$$\n",
        "$$n=0 \\space\\space\\space\\space\\space 1 = a+b$$\n",
        "$$n=1 \\space\\space\\space\\space\\space 3=5a+2b$$\n",
        "\n",
        "working this out you can find\n",
        "$$a = \\frac13$$\n",
        "and\n",
        "$$b = \\frac23$$\n",
        "\n",
        "using these values you can plug them back into the original equation and get:\n",
        "$$an=\\frac13(5)^n+\\frac23(2)^n$$\n",
        "\n",
        "so using this you should be able to find any value for the original statement\n",
        "$$f(n)=7f(n-1)-10f(n-2)\\space f(0)=1\\space f(1) = 3$$"
      ],
      "metadata": {
        "id": "r6v-OyYzsaQl"
      }
    },
    {
      "cell_type": "code",
      "source": [
        "val = 10\n",
        "print(f'{(1/3)*(5)**(val)+(2/3)*(2)**(val):.2f}')"
      ],
      "metadata": {
        "id": "IFwNYfR7Rkja",
        "colab": {
          "base_uri": "https://localhost:8080/"
        },
        "outputId": "5aa644ff-2fbc-4a4c-e7fe-6e8c78a8c2a8"
      },
      "execution_count": 76,
      "outputs": [
        {
          "output_type": "stream",
          "name": "stdout",
          "text": [
            "3255891.00\n"
          ]
        }
      ]
    },
    {
      "cell_type": "markdown",
      "source": [
        "##2. DYNAMIC PROGRAMMING"
      ],
      "metadata": {
        "id": "mLwMPqupQbBk"
      }
    },
    {
      "cell_type": "code",
      "execution_count": 84,
      "metadata": {
        "colab": {
          "base_uri": "https://localhost:8080/"
        },
        "id": "58HtuLYYKv3k",
        "outputId": "06809fbe-acb9-4c42-c663-bd37dfbe3b08"
      },
      "outputs": [
        {
          "output_type": "stream",
          "name": "stdout",
          "text": [
            "3255891\n"
          ]
        }
      ],
      "source": [
        "def f(n):\n",
        "    if n == 0:\n",
        "        return 1\n",
        "    elif n == 1:\n",
        "        return 3\n",
        "    else:\n",
        "        return 7*f(n-1)-10*f(n-2)\n",
        "print(f(10))"
      ]
    },
    {
      "cell_type": "markdown",
      "source": [
        "This one has to go from the number it is given and work its way down to the two before it which might happen to break down into the two before it which will continue until it gets all the way to n=1 and n=0. Tough on processing power"
      ],
      "metadata": {
        "id": "yRxzZtIH8eqg"
      }
    },
    {
      "cell_type": "markdown",
      "source": [
        "##3. MEMOIZATION"
      ],
      "metadata": {
        "id": "vVqiceAnRNMn"
      }
    },
    {
      "cell_type": "code",
      "source": [
        "def fmemo(n):\n",
        "    if n == 0:\n",
        "        return 1\n",
        "    elif n == 1:\n",
        "        return 3\n",
        "    else:\n",
        "        l = [0]*(n+1)\n",
        "        l[0] = 1\n",
        "        l[1] = 3\n",
        "        for i in range (2,(n+1)):\n",
        "            l[i] = 7*fmemo(n-1)-10*fmemo(n-2)\n",
        "        return l[-1]\n",
        "print(fmemo(10))"
      ],
      "metadata": {
        "colab": {
          "base_uri": "https://localhost:8080/"
        },
        "id": "YJ0o-rFeRQH-",
        "outputId": "571a5eea-631a-40f6-dc9c-d3e12ea097fb"
      },
      "execution_count": 83,
      "outputs": [
        {
          "output_type": "stream",
          "name": "stdout",
          "text": [
            "3255891\n"
          ]
        }
      ]
    },
    {
      "cell_type": "markdown",
      "source": [
        "This one should work from the ground up and use the ones it knows to go up to the one its trying to get to while saving each value to the array as it goes on to the value its going to. Heavy on memory"
      ],
      "metadata": {
        "id": "JG8cy2-u8Otj"
      }
    },
    {
      "cell_type": "markdown",
      "source": [
        "##4. COMPARE"
      ],
      "metadata": {
        "id": "vqUaIHTmRcHc"
      }
    },
    {
      "cell_type": "markdown",
      "source": [
        "To solve n_1000, the first option is the fastest option because it is just a function it has to equate similiarly to a calculator. The second option uses the most amount of processing power because it has to work its way down from the number you get it and then break down the numbers below it and it spreads out like a tree. The third option uses more memory instead of processing power because it starts at the bottom and works its way up to the answer you gives it and saves each answer before it. None of these can actually solve the 1000th entry anyways though because its too big of a number and would take too much processing time for google since they are a small company and dont have the server resources to compute my programs. What bums."
      ],
      "metadata": {
        "id": "8JpaRUo04jxE"
      }
    }
  ]
}