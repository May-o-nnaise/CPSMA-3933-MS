{
 "cells": [
  {
   "cell_type": "markdown",
   "id": "3ee8f0d7-41eb-4479-ba09-ffd336cfbccf",
   "metadata": {},
   "source": [
    "My favorite function is f(x)=2^x-1 because it's the way to find the greatest number a binary string can be based on its number of bits. So 8 bits would mean your maximum would be 255 and it would be shown as 11111111 (eight 1's). "
   ]
  },
  {
   "cell_type": "code",
   "execution_count": 107,
   "id": "7db2a2a1-aaa5-4e4f-8155-12b7c462cd64",
   "metadata": {
    "scrolled": true
   },
   "outputs": [
    {
     "name": "stdout",
     "output_type": "stream",
     "text": [
      "For -54 bits, the max is: -1\n",
      "For 8 bits, the max is: 255\n",
      "For 32 bits, the max is: 4294967295\n",
      "For 64 bits, the max is: 18446744073709551616\n",
      "For 128 bits, the max is: 340282366920938463463374607431768211456\n",
      "For 920 bits, the max is: 8863311460481781141746416676937941075153709659930434578989576454853657824757125219971944776154496375261537574471193391385403783592849407838528338558092085276740615608975052082196989118065224509657855008735367281473086766641604185629827373864344704645943910512054824309490712576\n",
      "For 752 bits, the max is: 23689546086131422960647270026588478931532074235789438036179382904450240366918592625898413220651954314430049601701829119967217713075482397330387684250506304003974227539380644310764545984368872754291732775783027172102246808682496\n",
      "For 714 bits, the max is: 86182066610968551542636378241108028056376767329454880514019834315878107616003372189510312530372009184902888961739623919010110377987011442493486117202360415845666384627768436296772219009176743399772868636439042064384\n",
      "For 225 bits, the max is: 53919893334301279589334030174039261347274288845081144962207220498432\n",
      "For 367 bits, the max is: 300613450595050653169853516389035139504087366260264943450533244356122755214669880763353471793250393988087676928\n",
      "The sum of a full 8-bit binary string if you cumulatively add each value is 502.\n"
     ]
    }
   ],
   "source": [
    "import math\n",
    "import random\n",
    "\n",
    "bitnums = [-54,8,32,64,128,920,752,714,225,367]\n",
    "for num in bitnums:\n",
    "    max_binary_length = math.pow(2,num)-1\n",
    "    print(f'For {num} bits, the max is: {int(max_binary_length)}')\n",
    "bitsum = 0\n",
    "sum_of_a_bits = [1,2,3,4,5,6,7,8]\n",
    "for num in sum_of_a_bits:\n",
    "    max_binary_length = math.pow(2,num)-1\n",
    "    bitsum += max_binary_length\n",
    "print(f'The sum of a full 8-bit binary string if you cumulatively add each value is {int(bitsum)}.')"
   ]
  },
  {
   "cell_type": "markdown",
   "id": "14e46db2-5695-4689-b364-8885f1b8bd64",
   "metadata": {},
   "source": [
    "The reason I chose the first 5 values of \"bitnums\" was because of the most common different bit types you hear of with operating systems and whatnot. The -54 however was the first number I got that displayed -1 in because the function's y asymptote was so close to 1 that it rounded to 1. The next 5 values I went on goolge and searched up random number generator and put in any number 1 to 1000 and I set the max to 1000 to avoid overflow in python but the actual function has no maximum since it is exponentially increasing infinitely. The sum being 502 was because I added each value you can get from an 8 bit string, 1+3+7+... going up to 255(being 8-bit)."
   ]
  }
 ],
 "metadata": {
  "kernelspec": {
   "display_name": "Python [conda env:base] *",
   "language": "python",
   "name": "conda-base-py"
  },
  "language_info": {
   "codemirror_mode": {
    "name": "ipython",
    "version": 3
   },
   "file_extension": ".py",
   "mimetype": "text/x-python",
   "name": "python",
   "nbconvert_exporter": "python",
   "pygments_lexer": "ipython3",
   "version": "3.13.5"
  }
 },
 "nbformat": 4,
 "nbformat_minor": 5
}
