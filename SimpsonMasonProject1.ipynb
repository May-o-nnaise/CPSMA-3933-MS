{
  "nbformat": 4,
  "nbformat_minor": 0,
  "metadata": {
    "colab": {
      "provenance": []
    },
    "kernelspec": {
      "name": "python3",
      "display_name": "Python 3"
    },
    "language_info": {
      "name": "python"
    }
  },
  "cells": [
    {
      "cell_type": "code",
      "execution_count": 13,
      "metadata": {
        "colab": {
          "base_uri": "https://localhost:8080/"
        },
        "id": "AHDoyG1v2M_z",
        "outputId": "77b79706-74de-4c36-858a-33760525a827"
      },
      "outputs": [
        {
          "output_type": "stream",
          "name": "stdout",
          "text": [
            "669668.0\n"
          ]
        }
      ],
      "source": [
        "income = 1000000.0\n",
        "tax = 0.10\n",
        "if 0 <= income <= 11000:\n",
        "    income = income-(income*tax)\n",
        "elif 11001 <= income <= 44725:\n",
        "    tax = 0.12\n",
        "    income = income-((income-11000)*tax+1100)\n",
        "elif 44726 <= income <= 95375:\n",
        "    tax = 0.22\n",
        "    income = income-((income-44725)*tax+5147)\n",
        "elif 95376 <= income <= 182100:\n",
        "    tax = 0.24\n",
        "    income = income-((income-95375)*tax+16290)\n",
        "elif 182101 <= income <= 231250:\n",
        "    tax = 0.32\n",
        "    income = income-((income-182100)*tax+37104)\n",
        "elif 231251 <= income <= 578125:\n",
        "    tax=0.35\n",
        "    income = income-((income-231250)*tax+52832)\n",
        "else:\n",
        "    tax = 0.37\n",
        "    income = income-((income-578125)*tax+174238.25)\n",
        "print(income)"
      ]
    },
    {
      "cell_type": "markdown",
      "source": [
        "For this code I used a bunch of if statements in order to create all of the tax brackets using the image from the github. It was somewhat tricky because you had to make sure that it is only taxable from the range past the points behind it so thats why you subtract the previous maximums of each bracket."
      ],
      "metadata": {
        "id": "U7SWfL0jVWi4"
      }
    },
    {
      "cell_type": "code",
      "source": [
        "import numpy as np\n",
        "\n",
        "h = [1,0.1,0.001,0.002,0.0001,0.0000000001]\n",
        "\n",
        "for item in h:\n",
        "    result = (np.log(item+1)-np.log(1))/item\n",
        "    print(f'{result:.20f}')"
      ],
      "metadata": {
        "colab": {
          "base_uri": "https://localhost:8080/"
        },
        "id": "1urDAAXm26mc",
        "outputId": "24f6a2f6-9a2a-4143-c0ed-97e88102fe4c"
      },
      "execution_count": 43,
      "outputs": [
        {
          "output_type": "stream",
          "name": "stdout",
          "text": [
            "0.69314718055994528623\n",
            "0.95310179804324934860\n",
            "0.99950033308342323135\n",
            "0.99900133133652890827\n",
            "0.99995000333297312523\n",
            "1.00000008269037099495\n"
          ]
        }
      ]
    },
    {
      "cell_type": "markdown",
      "source": [
        "For this one i had to import numpy in order to get the log function for python. After that I just used the list and plugged it into a for loop to do all the items in said list. The final result is over one but I'm 99% sure thats not a me thing and its a python thing because it cant display how close it is to 1 since the decimal is so large it rounds up."
      ],
      "metadata": {
        "id": "ub2Jw_fzVwjo"
      }
    },
    {
      "cell_type": "code",
      "source": [
        "sigma = 0\n",
        "for n in range (1,1001):\n",
        "  formula = (n*(n+1)/2)**2\n",
        "  #print(f'{n} = {sum}')\n",
        "  sigma += n**3\n",
        "  #print(f'{n} = {sigma}')\n",
        "  if sigma != formula:\n",
        "    print(f'{n} = {sigma}')\n",
        "    break\n",
        "print('Completed. Formula verified')\n"
      ],
      "metadata": {
        "colab": {
          "base_uri": "https://localhost:8080/"
        },
        "id": "4v3rwPTL6OKe",
        "outputId": "4410fab6-ba3f-41be-f519-5a74f802f68e"
      },
      "execution_count": 42,
      "outputs": [
        {
          "output_type": "stream",
          "name": "stdout",
          "text": [
            "Completed. Formula verified\n"
          ]
        }
      ]
    },
    {
      "cell_type": "markdown",
      "source": [
        "For the Trust of Summation I first used the formula you had provided and I checked the numbers using a simple print statement to show me each value corresponding to which number it was on in the loop. Then I created another variable to find the sum for adding each value together and wrote an if to say if they were not equal at any point. If it goes through the entire 1 - 1000 and is never runs into a not equal it returns that it is comeplete and the formula was verified."
      ],
      "metadata": {
        "id": "H_I8y5dhWRZe"
      }
    }
  ]
}